{
 "cells": [
  {
   "cell_type": "markdown",
   "id": "a51d8398",
   "metadata": {},
   "source": [
    "\n",
    "# Superstore Data Analysis - Modified\n",
    "This notebook provides a revised analysis of the Superstore dataset. The primary focus is to analyze the profit, sales, and shipping costs by state, using different visualizations and metrics.\n",
    "\n",
    "We will explore the following:\n",
    "- Profit distribution across different states.\n",
    "- Profit-to-sales ratio to assess profitability.\n",
    "- Comparison of shipping costs by state.\n"
   ]
  },
  {
   "cell_type": "code",
   "execution_count": null,
   "id": "6f642d0a",
   "metadata": {},
   "outputs": [],
   "source": [
    "\n",
    "import pandas as pd\n",
    "import matplotlib.pyplot as plt\n",
    "\n",
    "# Sample data (as we don't have the original dataset)\n",
    "data = {\n",
    "    'State': ['California', 'Texas', 'New York', 'Florida', 'Illinois'],\n",
    "    'Profit': [30000, 25000, 18000, 12000, 10000],\n",
    "    'Sales': [150000, 120000, 90000, 60000, 50000],\n",
    "    'Shipping_Cost': [5000, 4000, 3000, 2000, 1000]\n",
    "}\n",
    "\n",
    "df = pd.DataFrame(data)\n",
    "df\n"
   ]
  },
  {
   "cell_type": "code",
   "execution_count": null,
   "id": "ff1896d7",
   "metadata": {},
   "outputs": [],
   "source": [
    "\n",
    "plt.figure(figsize=(8, 8))\n",
    "plt.pie(df['Profit'], labels=df['State'], autopct='%1.1f%%', startangle=140, colors=plt.cm.Paired.colors)\n",
    "plt.title('Profit Distribution by State')\n",
    "plt.show()\n"
   ]
  },
  {
   "cell_type": "code",
   "execution_count": null,
   "id": "f9956291",
   "metadata": {},
   "outputs": [],
   "source": [
    "\n",
    "# Calculate profit-to-sales ratio\n",
    "df['Profit_to_Sales_Ratio'] = df['Profit'] / df['Sales']\n",
    "df[['State', 'Profit_to_Sales_Ratio']]\n"
   ]
  },
  {
   "cell_type": "code",
   "execution_count": null,
   "id": "5ba3cade",
   "metadata": {},
   "outputs": [],
   "source": [
    "\n",
    "# Bar chart comparing shipping costs by state\n",
    "plt.figure(figsize=(8, 6))\n",
    "df.groupby('State')['Shipping_Cost'].sum().plot.bar(color='skyblue')\n",
    "plt.title('Shipping Costs by State')\n",
    "plt.xlabel('State')\n",
    "plt.ylabel('Shipping Cost')\n",
    "plt.show()\n"
   ]
  }
 ],
 "metadata": {},
 "nbformat": 4,
 "nbformat_minor": 5
}
